{
 "cells": [
  {
   "attachments": {},
   "cell_type": "markdown",
   "metadata": {},
   "source": [
    "## Variables"
   ]
  },
  {
   "attachments": {},
   "cell_type": "markdown",
   "metadata": {},
   "source": [
    "1) Crear una variable que contenga un elemento del conjunto de números enteros y luego imprimir por pantalla"
   ]
  },
  {
   "cell_type": "code",
   "execution_count": 31,
   "metadata": {},
   "outputs": [
    {
     "name": "stdout",
     "output_type": "stream",
     "text": [
      "10\n"
     ]
    }
   ],
   "source": [
    "num = 10 #num es una variable y 10 es el valor que se le asigna a la variable. \n",
    "#Las variables pueden ser escritas utilizando letras mayúsculas y minúsculas, números y guiones _, pero nunca pueden comenzar con números.\n",
    "print(num) #con print(num) imprimimos en pantalla el valor que le asignamos a la variable num."
   ]
  },
  {
   "attachments": {},
   "cell_type": "markdown",
   "metadata": {},
   "source": [
    "2) Imprimir el tipo de dato de la constante 8.5"
   ]
  },
  {
   "cell_type": "code",
   "execution_count": 32,
   "metadata": {},
   "outputs": [
    {
     "name": "stdout",
     "output_type": "stream",
     "text": [
      "<class 'float'>\n"
     ]
    }
   ],
   "source": [
    "print(type(8.5)) #print() es una función dentro de Python. Se utiliza para imprimir en pantalla lo que se encuentra dentro del parentesis.\n",
    "#En este caso estamos imprimiento directamente un número que es 8.5, este es un número demoninado float o de coma flotante.\n",
    "#Los números float o de coma flotante representar a los números decimales."
   ]
  },
  {
   "attachments": {},
   "cell_type": "markdown",
   "metadata": {},
   "source": [
    "3) Imprimir el tipo de dato de la variable creada en el punto 1"
   ]
  },
  {
   "cell_type": "code",
   "execution_count": 18,
   "metadata": {},
   "outputs": [
    {
     "name": "stdout",
     "output_type": "stream",
     "text": [
      "<class 'int'>\n"
     ]
    }
   ],
   "source": [
    "print(type(num)) # type() es una funcion dentro de Python que nos entrega el tipo de objeto dentro del argumento o parentesis.\n",
    "# En este caso el objeto es un integer o entero y se denomina int esto es porque en un principio definimos la variable num = 10.\n",
    "#10 corresponde a un número entero."
   ]
  },
  {
   "attachments": {},
   "cell_type": "markdown",
   "metadata": {},
   "source": [
    "4) Crear una variable que contenga tu nombre"
   ]
  },
  {
   "cell_type": "code",
   "execution_count": 24,
   "metadata": {},
   "outputs": [
    {
     "name": "stdout",
     "output_type": "stream",
     "text": [
      "Felipe\n",
      "<class 'str'>\n"
     ]
    }
   ],
   "source": [
    "nombre = \"Felipe\" #nombre es la variable, \"Felipe\" es el valor de la variable,\n",
    "print(nombre) #En este caso, la variable nombre es un objeto del tipo string o cadena, por contener caracteres alfanumericos, y se denomina str.\n",
    "#Las variables del tipo string o cadena, deben escribirse entre '' comillas simples o \"\" comillas dobles.\n",
    "print(type(nombre)) #Aquí podemos observar que el tipo de objeto corresponde a un string o cadena denominado str"
   ]
  },
  {
   "attachments": {},
   "cell_type": "markdown",
   "metadata": {},
   "source": [
    "5) Crear una variable que contenga un número complejo"
   ]
  },
  {
   "cell_type": "code",
   "execution_count": 4,
   "metadata": {},
   "outputs": [
    {
     "name": "stdout",
     "output_type": "stream",
     "text": [
      "(2+5j)\n"
     ]
    }
   ],
   "source": [
    "num1 = 2 + 5j # num1 es la variable y 2 + 5j es el valor de la variable.\n",
    "print (num1) #Imprimimos en pantalla el valor de la variable."
   ]
  },
  {
   "attachments": {},
   "cell_type": "markdown",
   "metadata": {},
   "source": [
    "6) Mostrar el tipo de dato de la variable crada en el punto 5"
   ]
  },
  {
   "cell_type": "code",
   "execution_count": 22,
   "metadata": {},
   "outputs": [
    {
     "name": "stdout",
     "output_type": "stream",
     "text": [
      "<class 'complex'>\n"
     ]
    }
   ],
   "source": [
    "print(type(num1)) #Imprimimos en pantalla el tipo de objeto que representa la variable num1.\n",
    "#En este caso el tipo de objeto corresponde a un complex o complejo lo que significa que es un número complejo.\n",
    "#Un número complejo es aquel que contiene una parter real y una parte imaginaria, es este caso 2 es la parte real y 5j la imaginaria."
   ]
  },
  {
   "attachments": {},
   "cell_type": "markdown",
   "metadata": {},
   "source": [
    "7) Crear una variable que contenga el valor del número Pi redondeado a 4 decimales"
   ]
  },
  {
   "cell_type": "code",
   "execution_count": 21,
   "metadata": {},
   "outputs": [
    {
     "name": "stdout",
     "output_type": "stream",
     "text": [
      "3.1415\n"
     ]
    }
   ],
   "source": [
    "Pi = 3.1415 #simplemente definimos una variable llamada Pi y le damos el valor de Pi redondeado a 4 decimales.\n",
    "print(Pi) #imprimimos en pantalla el valor de la variable Pi"
   ]
  },
  {
   "attachments": {},
   "cell_type": "markdown",
   "metadata": {},
   "source": [
    "8) Crear una variable que contenga el valor 'True' y otra que contenga el valor True. ¿Se trata de lo mismo?"
   ]
  },
  {
   "cell_type": "code",
   "execution_count": 26,
   "metadata": {},
   "outputs": [
    {
     "name": "stdout",
     "output_type": "stream",
     "text": [
      "true True false False\n"
     ]
    }
   ],
   "source": [
    "var1 = \"true\" #var1 es la variable y \"true\" es el valor de la variable, como se comentó anteriormente corresponde a un sring o cadena.\n",
    "var2 = True #var2 es la variable y True corresponde a un nuevo objeto llamado boolean o booleano y se denomina bool.\n",
    "var3 = \"false\" #var3 es la variable y \"false\" es el valor de la variable, como se comentó anteriormente corresponde a un sring o cadena.\n",
    "var4 = False #var4 es la variable y False corresponde a un nuevo objeto llamado boolean o booleano y se denomina bool, al igual que True\n",
    "#En Python para que un objeto boolean o booleano sea reconocido como tal, la T de True y la F de False deben escribirse en mayúsculas.\n",
    "#Un boolean o booleano representa valores de lógica binarea, es decir 2 valores cero \"0\" y uno \"1\", donde False es 0 y True 1.\n",
    "print(var1, var2, var3, var4) #imprimimos la variables en pantalla. Cómo se puede observar, podemos imprimir varias variables dentro de un print separando estas con una ,"
   ]
  },
  {
   "attachments": {},
   "cell_type": "markdown",
   "metadata": {},
   "source": [
    "9) Imprimir el tipo de dato correspondientes a las variables creadas en el punto 8"
   ]
  },
  {
   "cell_type": "code",
   "execution_count": 28,
   "metadata": {},
   "outputs": [
    {
     "name": "stdout",
     "output_type": "stream",
     "text": [
      "<class 'str'> <class 'bool'> <class 'str'> <class 'bool'>\n"
     ]
    }
   ],
   "source": [
    "print(type(var1), type(var2), type(var3), type(var4))\n",
    "#Podemos observar que efectivamente las variables var 1 y var 3 corresponden a objetos del tipo str, mientras que las variables var 2 y var 4 corresponden a objetos del tipo bool."
   ]
  },
  {
   "attachments": {},
   "cell_type": "markdown",
   "metadata": {},
   "source": [
    "10) Asignar a una variable, la suma de un número entero y otro decimal"
   ]
  },
  {
   "cell_type": "code",
   "execution_count": 45,
   "metadata": {},
   "outputs": [
    {
     "name": "stdout",
     "output_type": "stream",
     "text": [
      "6.6\n",
      "4.6\n"
     ]
    }
   ],
   "source": [
    "var_sum = 3 + 3.6 #A las variables tambies se les puede asignar como valores operaciones aritmeticas, en este caso una suma de un int y un float (un entero y un decimal)\n",
    "x = 2 #x es la varialbe y 2 es el valor de la variable, corresponde a un integer o entero, int\n",
    "y = 2.6 #y es la variable y 2.6 es el valor de la variable, corresponde a un float o de coma flotante\n",
    "sum_var = x + y #Tambien podemos asignarles a las variables operaciones aritmeticas entre otras variables.\n",
    "print(var_sum) #imprimimos en pantalla la variable var_sum que corresponde a la operación que se le asigno a dicha variable.\n",
    "print(sum_var) #imprimimos en pantalla la variable sum_var que corresponde a la operacion entre las 2 variables dentro de la variable."
   ]
  },
  {
   "attachments": {},
   "cell_type": "markdown",
   "metadata": {},
   "source": [
    "11) Realizar una operación de suma de números complejos"
   ]
  },
  {
   "cell_type": "code",
   "execution_count": 48,
   "metadata": {},
   "outputs": [
    {
     "name": "stdout",
     "output_type": "stream",
     "text": [
      "(5+3j)\n"
     ]
    }
   ],
   "source": [
    "x = 2 + 5j #x corresponde a una variable que contiene un número complejo, objeto del tipo complex.\n",
    "y = 3 - 2j #y es otra variable que cotniene un número complejo, objeto del tipo complex.\n",
    "z = x + y #z es una variable que suma las 2 variables anteriores, x e y, 2 números complejos.\n",
    "print(z) #imprimimos en pantalla la variable z que corresponde a la operacion entre las 2 variables dentro de la variable."
   ]
  },
  {
   "attachments": {},
   "cell_type": "markdown",
   "metadata": {},
   "source": [
    "12) Realizar una operación de suma de un número real y otro complejo"
   ]
  },
  {
   "cell_type": "code",
   "execution_count": 47,
   "metadata": {},
   "outputs": [
    {
     "name": "stdout",
     "output_type": "stream",
     "text": [
      "(8+8j)\n"
     ]
    }
   ],
   "source": [
    "x = 5 #x es una variale que contiene un número entero, objeto del tipo int\n",
    "y = 3 + 8j #y es otra variable que cotniene un número complejo, objeto del tipo complex.\n",
    "z = x + y #z es una variable que suma las 2 variables anteriores, x e y, un número real y un número complejo\n",
    "print(z) #imprimimos en pantalla la variable z que corresponde a la operacion entre las 2 variables dentro de la variable, es decir la suma de un número real y un número complejo."
   ]
  },
  {
   "attachments": {},
   "cell_type": "markdown",
   "metadata": {},
   "source": [
    "13) Realizar una operación de multiplicación"
   ]
  },
  {
   "cell_type": "code",
   "execution_count": 46,
   "metadata": {},
   "outputs": [
    {
     "name": "stdout",
     "output_type": "stream",
     "text": [
      "10\n",
      "10\n"
     ]
    }
   ],
   "source": [
    "x = 2 * 5 #Dentro de las operaciones aritmeticas tenemos la multiplicación que se define con el asterisco *. x es la variable y tiene el valor de 2 multiplicado por 5.\n",
    "a = 2 #a es una variable con el valor 2\n",
    "b = 5 #b es una variable con el valor 5\n",
    "c = a * b #c es una variable que contiene la multiplicación de las variables a y b.\n",
    "print(x) #Imprime en pantalla el resultado de la operación que contiene la variable x, es decir, imprime el resultado de 2 multiplicado por 5\n",
    "print(c) #Imprime en pantalla el resultado de la variable c, que es la operación entre las variables a y b, es decir, la multiplicación entre a y b"
   ]
  },
  {
   "attachments": {},
   "cell_type": "markdown",
   "metadata": {},
   "source": [
    "14) Mostrar el resultado de elevar 2 a la octava potencia"
   ]
  },
  {
   "cell_type": "code",
   "execution_count": 50,
   "metadata": {},
   "outputs": [
    {
     "name": "stdout",
     "output_type": "stream",
     "text": [
      "256\n"
     ]
    }
   ],
   "source": [
    "x = 2**8 #Dentro de las operaciones aritmeticas tenemos la potenciación, esta se defie con doble asterisco **. x es la variable y tiene el valor de 2 elevado a 8.\n",
    "print(x) #imprime en pantalla el resultado de la operación al interior de la variable x que es el valor de 2 elevado a 8"
   ]
  },
  {
   "attachments": {},
   "cell_type": "markdown",
   "metadata": {},
   "source": [
    "15) Obtener el cociente de la división de 27 entre 4 en una variable y luego mostrarla"
   ]
  },
  {
   "cell_type": "code",
   "execution_count": 51,
   "metadata": {},
   "outputs": [
    {
     "name": "stdout",
     "output_type": "stream",
     "text": [
      "6.75\n"
     ]
    }
   ],
   "source": [
    "x = 27 / 4 #siguiendo con las operaciones aritmeticas tenemos la división, esta se define con el slash /. x es la variable y tiene el valor de 27 dividido 4.\n",
    "print(x) #imprime en pantalla el resultado de la operación al interior de la variable x que es el valor de 27 dividido 4"
   ]
  },
  {
   "attachments": {},
   "cell_type": "markdown",
   "metadata": {},
   "source": [
    "16) De la división anterior solamente mostrar la parte entera"
   ]
  },
  {
   "cell_type": "code",
   "execution_count": 52,
   "metadata": {},
   "outputs": [
    {
     "name": "stdout",
     "output_type": "stream",
     "text": [
      "6\n"
     ]
    }
   ],
   "source": [
    "x = 27 // 4 #La operación división está definida con el slash /, para obtener solo la parte entera de la división utilizamos el doble slash //.\n",
    "#x es la variable y tiene como valor la parte entera de la división de 27 entre 4.\n",
    "print(x) #Imprime en pantalla el resultado de la operación al interior de la variable x que es el valor de 27 dividido 4, considerando solamente la parte entera."
   ]
  },
  {
   "attachments": {},
   "cell_type": "markdown",
   "metadata": {},
   "source": [
    "17) De la división de 27 entre 4 mostrar solamente el resto"
   ]
  },
  {
   "cell_type": "code",
   "execution_count": 53,
   "metadata": {},
   "outputs": [
    {
     "name": "stdout",
     "output_type": "stream",
     "text": [
      "3\n"
     ]
    }
   ],
   "source": [
    "y = 27 % 4 #Para obtener solo el resto de la división utilizamos el operador porcentaje %. Es decir, 27 dividido 4, nos da como resultado entero 6. \n",
    "#el resto corresponde al resultado de esta operación.\n",
    "print(y) #Imprime en pantalla el resultado de la operación al interior de la variable \"y\" que es el valor de 27 dividido 4, considerando solamente el resto."
   ]
  },
  {
   "attachments": {},
   "cell_type": "markdown",
   "metadata": {},
   "source": [
    "18) Utilizando como operandos el número 4 y los resultados obtenidos en los puntos 16 y 17. Obtener 27 como resultado"
   ]
  },
  {
   "cell_type": "code",
   "execution_count": 60,
   "metadata": {},
   "outputs": [
    {
     "name": "stdout",
     "output_type": "stream",
     "text": [
      "27\n"
     ]
    }
   ],
   "source": [
    "var = 4 * x + y #Podemos combinar distintas operaciones dentro de una variable, en este caso tenemos el entero 4 que lo multiplicamos por la variable \"x\", \n",
    "#la cual contiene a la parte entera de la división de 27 / 4 y le sumamos la variable \"y\" que contiene el resto de dicha división.\n",
    "print(var) #imprime el resultado de la operación al interior de la variable var."
   ]
  },
  {
   "attachments": {},
   "cell_type": "markdown",
   "metadata": {},
   "source": [
    "19) Utilizar el operador \"+\" en una operación donde intervengan solo variables alfanuméricas"
   ]
  },
  {
   "cell_type": "code",
   "execution_count": 56,
   "metadata": {},
   "outputs": [
    {
     "name": "stdout",
     "output_type": "stream",
     "text": [
      "Hola Mundo!\n"
     ]
    }
   ],
   "source": [
    "var = \"Hola\" #var es la variable y contiene el string o cadena \"Hola\"\n",
    "var2 = \" Mundo!\" #var2 es la variable y contiene el string o cadena \" Mundo!\"\n",
    "var3 = var + var2 #var3 es la variable y contiene la suma de las variables var y var2, en este caso el operador \"+\" no corresponde a una suma propiamente tal,\n",
    "#corresponde a una concatenación de los 2 string o cadenas almacenados en las variables var y var2. \n",
    "print(var3) #Imprime el valor de la variable var3 que contiene la concatenación de las variables var y var2\n",
    "#nota: es importante considerar un espacio en alguna de los 2 string para que la frase concatenada se muestre correctamente."
   ]
  },
  {
   "attachments": {},
   "cell_type": "markdown",
   "metadata": {},
   "source": [
    "20) Evaluar si \"2\" es igual a 2. ¿Por qué ocurre eso?"
   ]
  },
  {
   "cell_type": "code",
   "execution_count": 58,
   "metadata": {},
   "outputs": [
    {
     "data": {
      "text/plain": [
       "False"
      ]
     },
     "execution_count": 58,
     "metadata": {},
     "output_type": "execute_result"
    }
   ],
   "source": [
    "\"2\" == 2 #Estamos evaluando un string o cadena denominado \"2\" igual a un integer o entero denominado 2. Si bien ambos corresponden al número 2, \n",
    "#para Python son objetos distintos, por ende no son iguales y arroja el resultado False, resultado que corresponde a un boolean o booleano."
   ]
  },
  {
   "attachments": {},
   "cell_type": "markdown",
   "metadata": {},
   "source": [
    "21) Utilizar las funciones de cambio de tipo de dato, para que la validación del punto 20 resulte verdadera"
   ]
  },
  {
   "cell_type": "code",
   "execution_count": 63,
   "metadata": {},
   "outputs": [
    {
     "data": {
      "text/plain": [
       "True"
      ]
     },
     "execution_count": 63,
     "metadata": {},
     "output_type": "execute_result"
    }
   ],
   "source": [
    "int(\"2\") == 2 #Aquí estamos realizando la misma evaluación con la diferencia que estamos incluyendo la función int() la cual trasforma el argumento que es un \n",
    "#número escrito como string a un número escrito como un integer haciendo que se cumpla la igualdad."
   ]
  },
  {
   "attachments": {},
   "cell_type": "markdown",
   "metadata": {},
   "source": [
    "22) ¿Por qué arroja error el siguiente cambio de tipo de datos? a = float('3,8')"
   ]
  },
  {
   "cell_type": "code",
   "execution_count": 66,
   "metadata": {},
   "outputs": [
    {
     "name": "stdout",
     "output_type": "stream",
     "text": [
      "3.8\n"
     ]
    }
   ],
   "source": [
    "#a = float(\"3,8\") #porque para que sea float debe ser con . y no con ,\n",
    "b = float(\"3.8\") #en este caso si cambia correctamente el dato de string a float.\n",
    "print(b) #imprime en pantalla el cambio del dato de la variable b de string a float."
   ]
  },
  {
   "attachments": {},
   "cell_type": "markdown",
   "metadata": {},
   "source": [
    "23) Crear una variable con el valor 3, y utilizar el operador '-=' para modificar su contenido y que de como resultado 2."
   ]
  },
  {
   "cell_type": "code",
   "execution_count": 69,
   "metadata": {},
   "outputs": [
    {
     "name": "stdout",
     "output_type": "stream",
     "text": [
      "2\n"
     ]
    }
   ],
   "source": [
    "x = 3 #x es la variable y tiene como valor el número 3\n",
    "x -= 1 #el operador -= resta la cantidad determinada al valor de la variable, se puede entener como x = x - 1, en este caso le resta 1 a la variable x, \n",
    "#asignando ese nuevo valor a la variable.\n",
    "print(x) #imprime el valor de la variable x."
   ]
  },
  {
   "attachments": {},
   "cell_type": "markdown",
   "metadata": {},
   "source": [
    "24) Realizar la operacion 1 << 2 ¿Por qué da ese resultado? ¿Qué es el sistema de numeración binario?"
   ]
  },
  {
   "cell_type": "code",
   "execution_count": 71,
   "metadata": {},
   "outputs": [
    {
     "data": {
      "text/plain": [
       "4"
      ]
     },
     "execution_count": 71,
     "metadata": {},
     "output_type": "execute_result"
    }
   ],
   "source": [
    "1 << 2 #Esta operación desplaza los bits del número 1 hacia la izquierda dos posiciones. El número 1 en binario es 0001. \n",
    "#Al desplazarlo dos posiciones hacia la izquierda, se convierte en 0100, que es el número 4 en decimal."
   ]
  },
  {
   "attachments": {},
   "cell_type": "markdown",
   "metadata": {},
   "source": [
    "25) Realizar la operación 2 + '2' ¿Por qué no está permitido? ¿Si los dos operandos serían del mismo tipo, siempre arrojaría el mismo resultado?"
   ]
  },
  {
   "cell_type": "code",
   "execution_count": 72,
   "metadata": {},
   "outputs": [
    {
     "ename": "TypeError",
     "evalue": "unsupported operand type(s) for +: 'int' and 'str'",
     "output_type": "error",
     "traceback": [
      "\u001b[1;31m---------------------------------------------------------------------------\u001b[0m",
      "\u001b[1;31mTypeError\u001b[0m                                 Traceback (most recent call last)",
      "Cell \u001b[1;32mIn[72], line 1\u001b[0m\n\u001b[1;32m----> 1\u001b[0m \u001b[38;5;241;43m2\u001b[39;49m\u001b[43m \u001b[49m\u001b[38;5;241;43m+\u001b[39;49m\u001b[43m \u001b[49m\u001b[38;5;124;43m\"\u001b[39;49m\u001b[38;5;124;43m2\u001b[39;49m\u001b[38;5;124;43m\"\u001b[39;49m\n",
      "\u001b[1;31mTypeError\u001b[0m: unsupported operand type(s) for +: 'int' and 'str'"
     ]
    }
   ],
   "source": [
    "2 + \"2\" #2 es un número entero definido como int y \"2\" es un número entero definido como un str.\n",
    "#Python no sabe como interpretar la suma de un integer y un string, por lo que genera un error."
   ]
  },
  {
   "attachments": {},
   "cell_type": "markdown",
   "metadata": {},
   "source": [
    "26) Realizar una operación válida entre valores de tipo entero y string"
   ]
  },
  {
   "cell_type": "code",
   "execution_count": 74,
   "metadata": {},
   "outputs": [
    {
     "data": {
      "text/plain": [
       "4"
      ]
     },
     "execution_count": 74,
     "metadata": {},
     "output_type": "execute_result"
    }
   ],
   "source": [
    "2 + int(\"2\") #para corregir el problema de la suma entre un integer y un string, lo correcto sería transformar el string a un integer utilizando \n",
    "#la función int() con el string de argumento"
   ]
  }
 ],
 "metadata": {
  "interpreter": {
   "hash": "c85384e4cb51c8b72350f3a8712cc8351fdc3955e32a27f9b60c6242ab125f01"
  },
  "kernelspec": {
   "display_name": "Python 3 (ipykernel)",
   "language": "python",
   "name": "python3"
  },
  "language_info": {
   "codemirror_mode": {
    "name": "ipython",
    "version": 3
   },
   "file_extension": ".py",
   "mimetype": "text/x-python",
   "name": "python",
   "nbconvert_exporter": "python",
   "pygments_lexer": "ipython3",
   "version": "3.12.4"
  }
 },
 "nbformat": 4,
 "nbformat_minor": 4
}
